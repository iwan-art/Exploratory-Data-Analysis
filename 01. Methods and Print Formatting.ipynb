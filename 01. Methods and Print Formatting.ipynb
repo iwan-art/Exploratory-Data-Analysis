{
 "cells": [
  {
   "cell_type": "markdown",
   "metadata": {},
   "source": [
    "# Methods and Print Formatting"
   ]
  },
  {
   "cell_type": "raw",
   "metadata": {},
   "source": [
    "- Methods merupakan sebuah fungsi bawaan python (built in)\n",
    "- Untuk mengetahui methods apa saja, bisa ketik (.) setelah variabel dan tekan Tab\n",
    "- Untuk mengetahui informasi bisa tekan shift+Tab"
   ]
  },
  {
   "cell_type": "code",
   "execution_count": 3,
   "metadata": {},
   "outputs": [],
   "source": [
    "x = 'Halo Dunia'"
   ]
  },
  {
   "cell_type": "code",
   "execution_count": 5,
   "metadata": {},
   "outputs": [],
   "source": [
    "x?"
   ]
  },
  {
   "cell_type": "code",
   "execution_count": 8,
   "metadata": {},
   "outputs": [
    {
     "name": "stdout",
     "output_type": "stream",
     "text": [
      "10\n",
      "5\n"
     ]
    }
   ],
   "source": [
    "print(len(x))            # panjang sebuah karakter\n",
    "print(x.index('Dunia'))  # index dimulai dari angka 0"
   ]
  },
  {
   "cell_type": "code",
   "execution_count": 10,
   "metadata": {},
   "outputs": [
    {
     "name": "stdout",
     "output_type": "stream",
     "text": [
      "HALO DUNIA\n",
      "halo dunia\n",
      "Halo dunia\n"
     ]
    }
   ],
   "source": [
    "print(x.upper())         # menjadikan semua karakter ke bentuk upper\n",
    "print(x.lower())         # menjadikan semua karakter ke bentuk lower\n",
    "print(x.capitalize())    # menjadikan setiap awal karakter ke bentuk capitalize"
   ]
  },
  {
   "cell_type": "code",
   "execution_count": 12,
   "metadata": {},
   "outputs": [
    {
     "name": "stdout",
     "output_type": "stream",
     "text": [
      "['Halo', 'Dunia']\n"
     ]
    }
   ],
   "source": [
    "print(x.split())      # akan memisahkan setiap karakter, hasilnya dalam bentuk list"
   ]
  },
  {
   "cell_type": "code",
   "execution_count": 13,
   "metadata": {},
   "outputs": [
    {
     "name": "stdout",
     "output_type": "stream",
     "text": [
      "['H', 'lo Duni', '']\n"
     ]
    }
   ],
   "source": [
    "print(x.split(\"a\"))"
   ]
  },
  {
   "cell_type": "raw",
   "metadata": {},
   "source": [
    "- split() berguna ketika digunakan pada saat masuk ke Natural Language processing (NLP)\n",
    "- Untuk mengekstrak sebuah kalimat\n",
    "- contoh NLP: Google Translate, Alexa Amazon"
   ]
  },
  {
   "cell_type": "markdown",
   "metadata": {},
   "source": [
    "# Print Formatting"
   ]
  },
  {
   "cell_type": "code",
   "execution_count": 17,
   "metadata": {},
   "outputs": [],
   "source": [
    "keinginan = \"gue pengen liburan dan makan enak\""
   ]
  },
  {
   "cell_type": "code",
   "execution_count": 18,
   "metadata": {},
   "outputs": [
    {
     "data": {
      "text/plain": [
       "'gue pengen liburan dan makan enak'"
      ]
     },
     "execution_count": 18,
     "metadata": {},
     "output_type": "execute_result"
    }
   ],
   "source": [
    "keinginan"
   ]
  },
  {
   "cell_type": "code",
   "execution_count": 19,
   "metadata": {},
   "outputs": [
    {
     "name": "stdout",
     "output_type": "stream",
     "text": [
      "gue pengen liburan dan makan enak\n"
     ]
    }
   ],
   "source": [
    "print(keinginan)"
   ]
  },
  {
   "cell_type": "code",
   "execution_count": 20,
   "metadata": {},
   "outputs": [
    {
     "name": "stdout",
     "output_type": "stream",
     "text": [
      "gue liburan ke morotai dan makan ikan\n"
     ]
    }
   ],
   "source": [
    "print(\"gue liburan ke {} dan makan {}\".format(\"morotai\", \"ikan\"))"
   ]
  },
  {
   "cell_type": "code",
   "execution_count": 26,
   "metadata": {},
   "outputs": [
    {
     "name": "stdout",
     "output_type": "stream",
     "text": [
      "pengen makan telur ayam ikan\n"
     ]
    }
   ],
   "source": [
    "print(\"pengen makan {1} {2} {0}\".format(\"ikan\", \"telur\", \"ayam\"))"
   ]
  },
  {
   "cell_type": "code",
   "execution_count": 27,
   "metadata": {},
   "outputs": [
    {
     "name": "stdout",
     "output_type": "stream",
     "text": [
      "pengen makan telur ayam ikan\n"
     ]
    }
   ],
   "source": [
    "print(\"pengen makan {b} {c} {a}\".format(a=\"ikan\", b=\"telur\", c=\"ayam\"))"
   ]
  },
  {
   "cell_type": "code",
   "execution_count": 21,
   "metadata": {},
   "outputs": [],
   "source": [
    "tempat = \"aceh\"\n",
    "makanan = \"ikan\""
   ]
  },
  {
   "cell_type": "code",
   "execution_count": 24,
   "metadata": {},
   "outputs": [
    {
     "name": "stdout",
     "output_type": "stream",
     "text": [
      "abis liburan ke aceh dan makan ikan\n"
     ]
    }
   ],
   "source": [
    "print(f\"abis liburan ke {tempat} dan makan {makanan}\")"
   ]
  },
  {
   "cell_type": "code",
   "execution_count": 28,
   "metadata": {},
   "outputs": [],
   "source": [
    "luas1 = 700.04\n",
    "luas2 = 403.93"
   ]
  },
  {
   "cell_type": "code",
   "execution_count": 37,
   "metadata": {},
   "outputs": [
    {
     "name": "stdout",
     "output_type": "stream",
     "text": [
      "luas tanah yang akan dibangun sekitar  700.040     403.9\n"
     ]
    }
   ],
   "source": [
    "print(f\"luas tanah yang akan dibangun sekitar {luas1:8.3f} {luas2:9.1f}\")"
   ]
  }
 ],
 "metadata": {
  "kernelspec": {
   "display_name": "Python 3 (ipykernel)",
   "language": "python",
   "name": "python3"
  },
  "language_info": {
   "codemirror_mode": {
    "name": "ipython",
    "version": 3
   },
   "file_extension": ".py",
   "mimetype": "text/x-python",
   "name": "python",
   "nbconvert_exporter": "python",
   "pygments_lexer": "ipython3",
   "version": "3.11.4"
  }
 },
 "nbformat": 4,
 "nbformat_minor": 4
}
